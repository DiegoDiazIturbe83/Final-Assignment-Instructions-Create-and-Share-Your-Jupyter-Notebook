{
 "cells": [
  {
   "cell_type": "markdown",
   "id": "dd6ed4f0",
   "metadata": {},
   "source": [
    "# Data Science Tools and Ecosystem "
   ]
  },
  {
   "cell_type": "markdown",
   "id": "57667f32",
   "metadata": {},
   "source": [
    "## In this notebook, Data Science Tools and Ecosystem are summarized.\n"
   ]
  },
  {
   "cell_type": "markdown",
   "id": "6a99d78e",
   "metadata": {},
   "source": [
    "**Objectives**\n",
    "- List some popular languages that Data Scientists use\n",
    "- List some ot the commonly used libraries used bu Data Scientist\n",
    "- List some Data Science tools\n",
    "- Show Arithmatic expressions used with Python"
   ]
  },
  {
   "cell_type": "markdown",
   "id": "50dfb46b",
   "metadata": {},
   "source": [
    "### Some of the popular languages that Data Scientists use are:"
   ]
  },
  {
   "cell_type": "markdown",
   "id": "d8b6de07",
   "metadata": {},
   "source": [
    "1. Python\n",
    "2. R\n",
    "3. Java\n",
    "4. C++\n",
    "5. SQL\n",
    "6. Julia\n",
    "7. SQL\n",
    "9. Scala"
   ]
  },
  {
   "cell_type": "markdown",
   "id": "c1509b42",
   "metadata": {},
   "source": [
    "## Some of the commonly used libraries used by Data Scientists include:"
   ]
  },
  {
   "cell_type": "markdown",
   "id": "554360ea",
   "metadata": {},
   "source": [
    "    1. Pandas\n",
    "    2. Numpy\n",
    "    3. Matplotlib\n",
    "    4. Seaborn\n",
    "    5. Scikit-learn\n",
    "    6. Keras\n",
    "    7. Tensorflow\n",
    "    8. Apache Spark\n",
    "    9. Vegas\n",
    "    10. BigDL\n",
    "    11. ggplot2\n"
   ]
  },
  {
   "cell_type": "markdown",
   "id": "a54da0c6",
   "metadata": {},
   "source": [
    "## Data Science Tools"
   ]
  },
  {
   "cell_type": "markdown",
   "id": "0d078c5e",
   "metadata": {},
   "source": [
    "| **Data Science Tools** |\n",
    "| ------------------ |\n",
    "| Jupyter |\n",
    "| Apache Zepellin |\n",
    "| RStudio |\n",
    "| Spyder |\n"
   ]
  },
  {
   "cell_type": "markdown",
   "id": "fe60d76d",
   "metadata": {},
   "source": [
    "### Below are a few examples of evaluating arithmetic expressions in Python"
   ]
  },
  {
   "cell_type": "code",
   "execution_count": 7,
   "id": "26757153",
   "metadata": {},
   "outputs": [
    {
     "data": {
      "text/plain": [
       "17"
      ]
     },
     "execution_count": 7,
     "metadata": {},
     "output_type": "execute_result"
    }
   ],
   "source": [
    "#This is a simple arithmetic expression to multiply and add integers\n",
    "(3*4)+5\n"
   ]
  },
  {
   "cell_type": "code",
   "execution_count": 8,
   "id": "eef48e69",
   "metadata": {},
   "outputs": [
    {
     "data": {
      "text/plain": [
       "3.3333333333333335"
      ]
     },
     "execution_count": 8,
     "metadata": {},
     "output_type": "execute_result"
    }
   ],
   "source": [
    "#This will convert 200 minutes to hours by diving by 60\n",
    "200/60"
   ]
  },
  {
   "cell_type": "markdown",
   "id": "d8ad802a",
   "metadata": {},
   "source": [
    "## Author\n",
    "Diego Ernesto Diaz Iturbe\n"
   ]
  },
  {
   "cell_type": "code",
   "execution_count": null,
   "id": "ee796955",
   "metadata": {},
   "outputs": [],
   "source": []
  }
 ],
 "metadata": {
  "kernelspec": {
   "display_name": "Python 3 (ipykernel)",
   "language": "python",
   "name": "python3"
  },
  "language_info": {
   "codemirror_mode": {
    "name": "ipython",
    "version": 3
   },
   "file_extension": ".py",
   "mimetype": "text/x-python",
   "name": "python",
   "nbconvert_exporter": "python",
   "pygments_lexer": "ipython3",
   "version": "3.10.9"
  }
 },
 "nbformat": 4,
 "nbformat_minor": 5
}
